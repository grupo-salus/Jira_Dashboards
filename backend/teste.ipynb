{
 "cells": [
  {
   "cell_type": "code",
   "execution_count": null,
   "metadata": {},
   "outputs": [],
   "source": [
    "import pandas as pd\n",
    "from services.jira_service import JiraService  # seu service acima\n",
    "from datetime import datetime\n",
    "from services.jira_parser import parse_issues_to_dataframe\n",
    "import json\n",
    "\n",
    "\n",
    "jira = JiraService()\n",
    "board_id = 71  # atualize se necessário\n",
    "\n",
    "backlog_data = jira.get_raw_backlog_issues(board_id).get(\"issues\", [])\n",
    "backlog_df = parse_issues_to_dataframe(backlog_data)\n",
    "\n",
    "\n"
   ]
  },
  {
   "cell_type": "code",
   "execution_count": null,
   "metadata": {},
   "outputs": [],
   "source": [
    "print(len(backlog_data))"
   ]
  },
  {
   "cell_type": "code",
   "execution_count": null,
   "metadata": {},
   "outputs": [],
   "source": [
    "issues_data = []\n",
    "for issue in backlog_data:\n",
    "    #if issue[\"key\"] in [\"SQD-690\", \"SQD-1012\"]:\n",
    "\n",
    "    if issue[\"fields\"][\"issuetype\"][\"name\"] != \"Subtarefa\":\n",
    "        print(issue[\"key\"], issue[\"fields\"][\"issuetype\"][\"name\"])\n",
    "\n",
    "\n",
    "#     fields.get(\"issuetype\") or {}).get(\"name\", ''),\n",
    "# #     if issue[\"key\"] in [\"SQD-690\", \"SQD-1012\"]:\n",
    "# #         print(issue[\"key\"])\n",
    "# #         issues_data.append(issue)\n",
    "\n",
    "# with open('sprint_data_teste.json', 'w', encoding='utf-8') as f:\n",
    "#     json.dump(issues_data, f, ensure_ascii=False, indent=4)\n",
    "\n",
    "  \n"
   ]
  }
 ],
 "metadata": {
  "kernelspec": {
   "display_name": ".venv",
   "language": "python",
   "name": "python3"
  },
  "language_info": {
   "codemirror_mode": {
    "name": "ipython",
    "version": 3
   },
   "file_extension": ".py",
   "mimetype": "text/x-python",
   "name": "python",
   "nbconvert_exporter": "python",
   "pygments_lexer": "ipython3",
   "version": "3.11.9"
  }
 },
 "nbformat": 4,
 "nbformat_minor": 2
}
