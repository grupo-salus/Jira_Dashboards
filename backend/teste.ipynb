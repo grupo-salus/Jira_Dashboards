{
 "cells": [
  {
   "cell_type": "code",
   "execution_count": 2,
   "metadata": {},
   "outputs": [
    {
     "name": "stdout",
     "output_type": "stream",
     "text": [
      "{'expand': 'renderedFields,names,schema,operations,editmeta,changelog,versionedRepresentations,customfield_10010.requestTypePractice', 'id': '17125', 'self': 'https://tigruposalus.atlassian.net/rest/api/3/issue/17125', 'key': 'EP-5', 'changelog': {'startAt': 0, 'maxResults': 12, 'total': 12, 'histories': [{'id': '77204', 'author': {'self': 'https://tigruposalus.atlassian.net/rest/api/3/user?accountId=62a742453eb34d00685dc392', 'accountId': '62a742453eb34d00685dc392', 'emailAddress': 'caio.liviero@gruposalus.com.br', 'avatarUrls': {'48x48': 'https://avatar-management--avatars.us-west-2.prod.public.atl-paas.net/62a742453eb34d00685dc392/e8ade77a-285b-43ee-bd61-b00ee4924e01/48', '24x24': 'https://avatar-management--avatars.us-west-2.prod.public.atl-paas.net/62a742453eb34d00685dc392/e8ade77a-285b-43ee-bd61-b00ee4924e01/24', '16x16': 'https://avatar-management--avatars.us-west-2.prod.public.atl-paas.net/62a742453eb34d00685dc392/e8ade77a-285b-43ee-bd61-b00ee4924e01/16', '32x32': 'https://avatar-management--avatars.us-west-2.prod.public.atl-paas.net/62a742453eb34d00685dc392/e8ade77a-285b-43ee-bd61-b00ee4924e01/32'}, 'displayName': 'Caio Eduardo Lopes Liviero', 'active': True, 'timeZone': 'America/Sao_Paulo', 'accountType': 'atlassian'}, 'created': '2025-06-25T16:57:21.149-0300', 'items': [{'field': 'Squad', 'fieldtype': 'custom', 'fieldId': 'customfield_10278', 'from': '10500', 'fromString': 'TI - Sistemas', 'to': '10504', 'toString': 'TI - Squad Wetok'}]}, {'id': '77203', 'author': {'self': 'https://tigruposalus.atlassian.net/rest/api/3/user?accountId=62a742453eb34d00685dc392', 'accountId': '62a742453eb34d00685dc392', 'emailAddress': 'caio.liviero@gruposalus.com.br', 'avatarUrls': {'48x48': 'https://avatar-management--avatars.us-west-2.prod.public.atl-paas.net/62a742453eb34d00685dc392/e8ade77a-285b-43ee-bd61-b00ee4924e01/48', '24x24': 'https://avatar-management--avatars.us-west-2.prod.public.atl-paas.net/62a742453eb34d00685dc392/e8ade77a-285b-43ee-bd61-b00ee4924e01/24', '16x16': 'https://avatar-management--avatars.us-west-2.prod.public.atl-paas.net/62a742453eb34d00685dc392/e8ade77a-285b-43ee-bd61-b00ee4924e01/16', '32x32': 'https://avatar-management--avatars.us-west-2.prod.public.atl-paas.net/62a742453eb34d00685dc392/e8ade77a-285b-43ee-bd61-b00ee4924e01/32'}, 'displayName': 'Caio Eduardo Lopes Liviero', 'active': True, 'timeZone': 'America/Sao_Paulo', 'accountType': 'atlassian'}, 'created': '2025-06-25T16:57:18.976-0300', 'items': [{'field': 'Squad', 'fieldtype': 'custom', 'fieldId': 'customfield_10278', 'from': None, 'fromString': None, 'to': '10500', 'toString': 'TI - Sistemas'}]}, {'id': '76953', 'author': {'self': 'https://tigruposalus.atlassian.net/rest/api/3/user?accountId=62a742453eb34d00685dc392', 'accountId': '62a742453eb34d00685dc392', 'emailAddress': 'caio.liviero@gruposalus.com.br', 'avatarUrls': {'48x48': 'https://avatar-management--avatars.us-west-2.prod.public.atl-paas.net/62a742453eb34d00685dc392/e8ade77a-285b-43ee-bd61-b00ee4924e01/48', '24x24': 'https://avatar-management--avatars.us-west-2.prod.public.atl-paas.net/62a742453eb34d00685dc392/e8ade77a-285b-43ee-bd61-b00ee4924e01/24', '16x16': 'https://avatar-management--avatars.us-west-2.prod.public.atl-paas.net/62a742453eb34d00685dc392/e8ade77a-285b-43ee-bd61-b00ee4924e01/16', '32x32': 'https://avatar-management--avatars.us-west-2.prod.public.atl-paas.net/62a742453eb34d00685dc392/e8ade77a-285b-43ee-bd61-b00ee4924e01/32'}, 'displayName': 'Caio Eduardo Lopes Liviero', 'active': True, 'timeZone': 'America/Sao_Paulo', 'accountType': 'atlassian'}, 'created': '2025-06-24T17:13:41.625-0300', 'items': [{'field': 'Rank', 'fieldtype': 'custom', 'fieldId': 'customfield_10019', 'from': '', 'fromString': '', 'to': '', 'toString': 'Ranked higher'}]}, {'id': '76952', 'author': {'self': 'https://tigruposalus.atlassian.net/rest/api/3/user?accountId=62a742453eb34d00685dc392', 'accountId': '62a742453eb34d00685dc392', 'emailAddress': 'caio.liviero@gruposalus.com.br', 'avatarUrls': {'48x48': 'https://avatar-management--avatars.us-west-2.prod.public.atl-paas.net/62a742453eb34d00685dc392/e8ade77a-285b-43ee-bd61-b00ee4924e01/48', '24x24': 'https://avatar-management--avatars.us-west-2.prod.public.atl-paas.net/62a742453eb34d00685dc392/e8ade77a-285b-43ee-bd61-b00ee4924e01/24', '16x16': 'https://avatar-management--avatars.us-west-2.prod.public.atl-paas.net/62a742453eb34d00685dc392/e8ade77a-285b-43ee-bd61-b00ee4924e01/16', '32x32': 'https://avatar-management--avatars.us-west-2.prod.public.atl-paas.net/62a742453eb34d00685dc392/e8ade77a-285b-43ee-bd61-b00ee4924e01/32'}, 'displayName': 'Caio Eduardo Lopes Liviero', 'active': True, 'timeZone': 'America/Sao_Paulo', 'accountType': 'atlassian'}, 'created': '2025-06-24T17:13:41.174-0300', 'items': [{'field': 'status', 'fieldtype': 'jira', 'fieldId': 'status', 'from': '10596', 'fromString': 'Backlog Priorizado', 'to': '3', 'toString': 'In Progress'}]}, {'id': '76509', 'author': {'self': 'https://tigruposalus.atlassian.net/rest/api/3/user?accountId=62a742453eb34d00685dc392', 'accountId': '62a742453eb34d00685dc392', 'emailAddress': 'caio.liviero@gruposalus.com.br', 'avatarUrls': {'48x48': 'https://avatar-management--avatars.us-west-2.prod.public.atl-paas.net/62a742453eb34d00685dc392/e8ade77a-285b-43ee-bd61-b00ee4924e01/48', '24x24': 'https://avatar-management--avatars.us-west-2.prod.public.atl-paas.net/62a742453eb34d00685dc392/e8ade77a-285b-43ee-bd61-b00ee4924e01/24', '16x16': 'https://avatar-management--avatars.us-west-2.prod.public.atl-paas.net/62a742453eb34d00685dc392/e8ade77a-285b-43ee-bd61-b00ee4924e01/16', '32x32': 'https://avatar-management--avatars.us-west-2.prod.public.atl-paas.net/62a742453eb34d00685dc392/e8ade77a-285b-43ee-bd61-b00ee4924e01/32'}, 'displayName': 'Caio Eduardo Lopes Liviero', 'active': True, 'timeZone': 'America/Sao_Paulo', 'accountType': 'atlassian'}, 'created': '2025-06-18T09:57:46.333-0300', 'items': [{'field': 'Rank', 'fieldtype': 'custom', 'fieldId': 'customfield_10019', 'from': '', 'fromString': '', 'to': '', 'toString': 'Ranked lower'}]}, {'id': '76400', 'author': {'self': 'https://tigruposalus.atlassian.net/rest/api/3/user?accountId=62a742453eb34d00685dc392', 'accountId': '62a742453eb34d00685dc392', 'emailAddress': 'caio.liviero@gruposalus.com.br', 'avatarUrls': {'48x48': 'https://avatar-management--avatars.us-west-2.prod.public.atl-paas.net/62a742453eb34d00685dc392/e8ade77a-285b-43ee-bd61-b00ee4924e01/48', '24x24': 'https://avatar-management--avatars.us-west-2.prod.public.atl-paas.net/62a742453eb34d00685dc392/e8ade77a-285b-43ee-bd61-b00ee4924e01/24', '16x16': 'https://avatar-management--avatars.us-west-2.prod.public.atl-paas.net/62a742453eb34d00685dc392/e8ade77a-285b-43ee-bd61-b00ee4924e01/16', '32x32': 'https://avatar-management--avatars.us-west-2.prod.public.atl-paas.net/62a742453eb34d00685dc392/e8ade77a-285b-43ee-bd61-b00ee4924e01/32'}, 'displayName': 'Caio Eduardo Lopes Liviero', 'active': True, 'timeZone': 'America/Sao_Paulo', 'accountType': 'atlassian'}, 'created': '2025-06-17T16:54:07.808-0300', 'items': [{'field': 'labels', 'fieldtype': 'jira', 'fieldId': 'labels', 'from': None, 'fromString': '', 'to': None, 'toString': 'SISTEMAS'}]}, {'id': '76301', 'author': {'self': 'https://tigruposalus.atlassian.net/rest/api/3/user?accountId=62a742453eb34d00685dc392', 'accountId': '62a742453eb34d00685dc392', 'emailAddress': 'caio.liviero@gruposalus.com.br', 'avatarUrls': {'48x48': 'https://avatar-management--avatars.us-west-2.prod.public.atl-paas.net/62a742453eb34d00685dc392/e8ade77a-285b-43ee-bd61-b00ee4924e01/48', '24x24': 'https://avatar-management--avatars.us-west-2.prod.public.atl-paas.net/62a742453eb34d00685dc392/e8ade77a-285b-43ee-bd61-b00ee4924e01/24', '16x16': 'https://avatar-management--avatars.us-west-2.prod.public.atl-paas.net/62a742453eb34d00685dc392/e8ade77a-285b-43ee-bd61-b00ee4924e01/16', '32x32': 'https://avatar-management--avatars.us-west-2.prod.public.atl-paas.net/62a742453eb34d00685dc392/e8ade77a-285b-43ee-bd61-b00ee4924e01/32'}, 'displayName': 'Caio Eduardo Lopes Liviero', 'active': True, 'timeZone': 'America/Sao_Paulo', 'accountType': 'atlassian'}, 'created': '2025-06-17T15:11:03.922-0300', 'items': [{'field': 'Target start', 'fieldtype': 'custom', 'fieldId': 'customfield_10022', 'from': None, 'fromString': None, 'to': '2024-05-01', 'toString': '1/mai/24'}]}, {'id': '76300', 'author': {'self': 'https://tigruposalus.atlassian.net/rest/api/3/user?accountId=62a742453eb34d00685dc392', 'accountId': '62a742453eb34d00685dc392', 'emailAddress': 'caio.liviero@gruposalus.com.br', 'avatarUrls': {'48x48': 'https://avatar-management--avatars.us-west-2.prod.public.atl-paas.net/62a742453eb34d00685dc392/e8ade77a-285b-43ee-bd61-b00ee4924e01/48', '24x24': 'https://avatar-management--avatars.us-west-2.prod.public.atl-paas.net/62a742453eb34d00685dc392/e8ade77a-285b-43ee-bd61-b00ee4924e01/24', '16x16': 'https://avatar-management--avatars.us-west-2.prod.public.atl-paas.net/62a742453eb34d00685dc392/e8ade77a-285b-43ee-bd61-b00ee4924e01/16', '32x32': 'https://avatar-management--avatars.us-west-2.prod.public.atl-paas.net/62a742453eb34d00685dc392/e8ade77a-285b-43ee-bd61-b00ee4924e01/32'}, 'displayName': 'Caio Eduardo Lopes Liviero', 'active': True, 'timeZone': 'America/Sao_Paulo', 'accountType': 'atlassian'}, 'created': '2025-06-17T15:10:57.687-0300', 'items': [{'field': 'Target end', 'fieldtype': 'custom', 'fieldId': 'customfield_10023', 'from': None, 'fromString': None, 'to': '2026-01-01', 'toString': '1/jan/26'}]}, {'id': '76296', 'author': {'self': 'https://tigruposalus.atlassian.net/rest/api/3/user?accountId=62a742453eb34d00685dc392', 'accountId': '62a742453eb34d00685dc392', 'emailAddress': 'caio.liviero@gruposalus.com.br', 'avatarUrls': {'48x48': 'https://avatar-management--avatars.us-west-2.prod.public.atl-paas.net/62a742453eb34d00685dc392/e8ade77a-285b-43ee-bd61-b00ee4924e01/48', '24x24': 'https://avatar-management--avatars.us-west-2.prod.public.atl-paas.net/62a742453eb34d00685dc392/e8ade77a-285b-43ee-bd61-b00ee4924e01/24', '16x16': 'https://avatar-management--avatars.us-west-2.prod.public.atl-paas.net/62a742453eb34d00685dc392/e8ade77a-285b-43ee-bd61-b00ee4924e01/16', '32x32': 'https://avatar-management--avatars.us-west-2.prod.public.atl-paas.net/62a742453eb34d00685dc392/e8ade77a-285b-43ee-bd61-b00ee4924e01/32'}, 'displayName': 'Caio Eduardo Lopes Liviero', 'active': True, 'timeZone': 'America/Sao_Paulo', 'accountType': 'atlassian'}, 'created': '2025-06-17T15:10:05.011-0300', 'items': [{'field': 'Departamento Solicitante', 'fieldtype': 'custom', 'fieldId': 'customfield_10245', 'from': None, 'fromString': None, 'to': '10471', 'toString': 'Presidência'}]}, {'id': '76295', 'author': {'self': 'https://tigruposalus.atlassian.net/rest/api/3/user?accountId=62a742453eb34d00685dc392', 'accountId': '62a742453eb34d00685dc392', 'emailAddress': 'caio.liviero@gruposalus.com.br', 'avatarUrls': {'48x48': 'https://avatar-management--avatars.us-west-2.prod.public.atl-paas.net/62a742453eb34d00685dc392/e8ade77a-285b-43ee-bd61-b00ee4924e01/48', '24x24': 'https://avatar-management--avatars.us-west-2.prod.public.atl-paas.net/62a742453eb34d00685dc392/e8ade77a-285b-43ee-bd61-b00ee4924e01/24', '16x16': 'https://avatar-management--avatars.us-west-2.prod.public.atl-paas.net/62a742453eb34d00685dc392/e8ade77a-285b-43ee-bd61-b00ee4924e01/16', '32x32': 'https://avatar-management--avatars.us-west-2.prod.public.atl-paas.net/62a742453eb34d00685dc392/e8ade77a-285b-43ee-bd61-b00ee4924e01/32'}, 'displayName': 'Caio Eduardo Lopes Liviero', 'active': True, 'timeZone': 'America/Sao_Paulo', 'accountType': 'atlassian'}, 'created': '2025-06-17T15:10:02.457-0300', 'items': [{'field': 'Grupo Solicitante', 'fieldtype': 'custom', 'fieldId': 'customfield_10083', 'from': None, 'fromString': None, 'to': '10249', 'toString': 'Franqueadora'}]}, {'id': '76260', 'author': {'self': 'https://tigruposalus.atlassian.net/rest/api/3/user?accountId=62a742453eb34d00685dc392', 'accountId': '62a742453eb34d00685dc392', 'emailAddress': 'caio.liviero@gruposalus.com.br', 'avatarUrls': {'48x48': 'https://avatar-management--avatars.us-west-2.prod.public.atl-paas.net/62a742453eb34d00685dc392/e8ade77a-285b-43ee-bd61-b00ee4924e01/48', '24x24': 'https://avatar-management--avatars.us-west-2.prod.public.atl-paas.net/62a742453eb34d00685dc392/e8ade77a-285b-43ee-bd61-b00ee4924e01/24', '16x16': 'https://avatar-management--avatars.us-west-2.prod.public.atl-paas.net/62a742453eb34d00685dc392/e8ade77a-285b-43ee-bd61-b00ee4924e01/16', '32x32': 'https://avatar-management--avatars.us-west-2.prod.public.atl-paas.net/62a742453eb34d00685dc392/e8ade77a-285b-43ee-bd61-b00ee4924e01/32'}, 'displayName': 'Caio Eduardo Lopes Liviero', 'active': True, 'timeZone': 'America/Sao_Paulo', 'accountType': 'atlassian'}, 'created': '2025-06-17T14:40:40.296-0300', 'items': [{'field': 'Rank', 'fieldtype': 'custom', 'fieldId': 'customfield_10019', 'from': '', 'fromString': '', 'to': '', 'toString': 'Ranked higher'}]}, {'id': '76259', 'author': {'self': 'https://tigruposalus.atlassian.net/rest/api/3/user?accountId=62a742453eb34d00685dc392', 'accountId': '62a742453eb34d00685dc392', 'emailAddress': 'caio.liviero@gruposalus.com.br', 'avatarUrls': {'48x48': 'https://avatar-management--avatars.us-west-2.prod.public.atl-paas.net/62a742453eb34d00685dc392/e8ade77a-285b-43ee-bd61-b00ee4924e01/48', '24x24': 'https://avatar-management--avatars.us-west-2.prod.public.atl-paas.net/62a742453eb34d00685dc392/e8ade77a-285b-43ee-bd61-b00ee4924e01/24', '16x16': 'https://avatar-management--avatars.us-west-2.prod.public.atl-paas.net/62a742453eb34d00685dc392/e8ade77a-285b-43ee-bd61-b00ee4924e01/16', '32x32': 'https://avatar-management--avatars.us-west-2.prod.public.atl-paas.net/62a742453eb34d00685dc392/e8ade77a-285b-43ee-bd61-b00ee4924e01/32'}, 'displayName': 'Caio Eduardo Lopes Liviero', 'active': True, 'timeZone': 'America/Sao_Paulo', 'accountType': 'atlassian'}, 'created': '2025-06-17T14:40:39.861-0300', 'items': [{'field': 'status', 'fieldtype': 'jira', 'fieldId': 'status', 'from': '10068', 'fromString': 'Backlog', 'to': '10596', 'toString': 'Backlog Priorizado'}]}]}, 'fields': {'statuscategorychangedate': '2025-06-17T14:40:39.862-0300', 'fixVersions': [], 'statusCategory': {'self': 'https://tigruposalus.atlassian.net/rest/api/3/statuscategory/4', 'id': 4, 'key': 'indeterminate', 'colorName': 'yellow', 'name': 'Em andamento'}, 'resolution': None, 'customfield_10112': None, 'customfield_10113': None, 'customfield_10114': None, 'customfield_10105': None, 'customfield_10109': None, 'lastViewed': '2025-06-30T16:12:58.257-0300', 'priority': {'self': 'https://tigruposalus.atlassian.net/rest/api/3/priority/3', 'iconUrl': 'https://tigruposalus.atlassian.net/images/icons/priorities/medium.svg', 'name': 'Média', 'id': '3'}, 'customfield_10101': None, 'labels': ['SISTEMAS'], 'timeestimate': None, 'aggregatetimeoriginalestimate': None, 'versions': [], 'issuelinks': [], 'assignee': {'self': 'https://tigruposalus.atlassian.net/rest/api/3/user?accountId=62a742453eb34d00685dc392', 'accountId': '62a742453eb34d00685dc392', 'emailAddress': 'caio.liviero@gruposalus.com.br', 'avatarUrls': {'48x48': 'https://avatar-management--avatars.us-west-2.prod.public.atl-paas.net/62a742453eb34d00685dc392/e8ade77a-285b-43ee-bd61-b00ee4924e01/48', '24x24': 'https://avatar-management--avatars.us-west-2.prod.public.atl-paas.net/62a742453eb34d00685dc392/e8ade77a-285b-43ee-bd61-b00ee4924e01/24', '16x16': 'https://avatar-management--avatars.us-west-2.prod.public.atl-paas.net/62a742453eb34d00685dc392/e8ade77a-285b-43ee-bd61-b00ee4924e01/16', '32x32': 'https://avatar-management--avatars.us-west-2.prod.public.atl-paas.net/62a742453eb34d00685dc392/e8ade77a-285b-43ee-bd61-b00ee4924e01/32'}, 'displayName': 'Caio Eduardo Lopes Liviero', 'active': True, 'timeZone': 'America/Sao_Paulo', 'accountType': 'atlassian'}, 'status': {'self': 'https://tigruposalus.atlassian.net/rest/api/3/status/3', 'description': 'Este ticket está sendo atualizado ativamente no momento pelo responsável.', 'iconUrl': 'https://tigruposalus.atlassian.net/images/icons/statuses/inprogress.png', 'name': 'Em andamento', 'id': '3', 'statusCategory': {'self': 'https://tigruposalus.atlassian.net/rest/api/3/statuscategory/4', 'id': 4, 'key': 'indeterminate', 'colorName': 'yellow', 'name': 'Em andamento'}}, 'components': [], 'customfield_10050': None, 'customfield_10051': None, 'customfield_10052': [], 'customfield_10053': None, 'customfield_10054': None, 'customfield_10055': None, 'customfield_10056': None, 'customfield_10057': None, 'customfield_10212': None, 'customfield_10049': None, 'aggregatetimeestimate': None, 'creator': {'self': 'https://tigruposalus.atlassian.net/rest/api/3/user?accountId=62a742453eb34d00685dc392', 'accountId': '62a742453eb34d00685dc392', 'emailAddress': 'caio.liviero@gruposalus.com.br', 'avatarUrls': {'48x48': 'https://avatar-management--avatars.us-west-2.prod.public.atl-paas.net/62a742453eb34d00685dc392/e8ade77a-285b-43ee-bd61-b00ee4924e01/48', '24x24': 'https://avatar-management--avatars.us-west-2.prod.public.atl-paas.net/62a742453eb34d00685dc392/e8ade77a-285b-43ee-bd61-b00ee4924e01/24', '16x16': 'https://avatar-management--avatars.us-west-2.prod.public.atl-paas.net/62a742453eb34d00685dc392/e8ade77a-285b-43ee-bd61-b00ee4924e01/16', '32x32': 'https://avatar-management--avatars.us-west-2.prod.public.atl-paas.net/62a742453eb34d00685dc392/e8ade77a-285b-43ee-bd61-b00ee4924e01/32'}, 'displayName': 'Caio Eduardo Lopes Liviero', 'active': True, 'timeZone': 'America/Sao_Paulo', 'accountType': 'atlassian'}, 'subtasks': [], 'customfield_10040': None, 'customfield_10041': None, 'customfield_10042': None, 'reporter': {'self': 'https://tigruposalus.atlassian.net/rest/api/3/user?accountId=62a742453eb34d00685dc392', 'accountId': '62a742453eb34d00685dc392', 'emailAddress': 'caio.liviero@gruposalus.com.br', 'avatarUrls': {'48x48': 'https://avatar-management--avatars.us-west-2.prod.public.atl-paas.net/62a742453eb34d00685dc392/e8ade77a-285b-43ee-bd61-b00ee4924e01/48', '24x24': 'https://avatar-management--avatars.us-west-2.prod.public.atl-paas.net/62a742453eb34d00685dc392/e8ade77a-285b-43ee-bd61-b00ee4924e01/24', '16x16': 'https://avatar-management--avatars.us-west-2.prod.public.atl-paas.net/62a742453eb34d00685dc392/e8ade77a-285b-43ee-bd61-b00ee4924e01/16', '32x32': 'https://avatar-management--avatars.us-west-2.prod.public.atl-paas.net/62a742453eb34d00685dc392/e8ade77a-285b-43ee-bd61-b00ee4924e01/32'}, 'displayName': 'Caio Eduardo Lopes Liviero', 'active': True, 'timeZone': 'America/Sao_Paulo', 'accountType': 'atlassian'}, 'customfield_10043': None, 'aggregateprogress': {'progress': 0, 'total': 0}, 'customfield_10044': None, 'customfield_10045': None, 'customfield_10046': None, 'customfield_10047': None, 'customfield_10168': None, 'customfield_10048': None, 'customfield_10169': None, 'customfield_10038': None, 'customfield_10039': None, 'progress': {'progress': 0, 'total': 0}, 'votes': {'self': 'https://tigruposalus.atlassian.net/rest/api/3/issue/EP-5/votes', 'votes': 0, 'hasVoted': False}, 'worklog': {'startAt': 0, 'maxResults': 20, 'total': 0, 'worklogs': []}, 'issuetype': {'self': 'https://tigruposalus.atlassian.net/rest/api/3/issuetype/10105', 'id': '10105', 'description': 'Projeto', 'iconUrl': 'https://tigruposalus.atlassian.net/rest/api/2/universal_avatar/view/type/issuetype/avatar/10322?size=medium', 'name': 'Projeto', 'subtask': False, 'avatarId': 10322, 'hierarchyLevel': 2}, 'timespent': None, 'customfield_10150': None, 'customfield_10030': None, 'customfield_10031': [], 'project': {'self': 'https://tigruposalus.atlassian.net/rest/api/3/project/10445', 'id': '10445', 'key': 'EP', 'name': 'Espaço de Projetos', 'projectTypeKey': 'software', 'simplified': False, 'avatarUrls': {'48x48': 'https://tigruposalus.atlassian.net/rest/api/3/universal_avatar/view/type/project/avatar/10419', '24x24': 'https://tigruposalus.atlassian.net/rest/api/3/universal_avatar/view/type/project/avatar/10419?size=small', '16x16': 'https://tigruposalus.atlassian.net/rest/api/3/universal_avatar/view/type/project/avatar/10419?size=xsmall', '32x32': 'https://tigruposalus.atlassian.net/rest/api/3/universal_avatar/view/type/project/avatar/10419?size=medium'}}, 'customfield_10032': None, 'customfield_10153': None, 'customfield_10033': None, 'aggregatetimespent': None, 'customfield_10034': None, 'customfield_10035': None, 'customfield_10036': None, 'customfield_10278': {'self': 'https://tigruposalus.atlassian.net/rest/api/3/customFieldOption/10504', 'value': 'Wetok', 'id': '10504'}, 'customfield_10037': None, 'resolutiondate': None, 'workratio': -1, 'watches': {'self': 'https://tigruposalus.atlassian.net/rest/api/3/issue/EP-5/watchers', 'watchCount': 1, 'isWatching': False}, 'created': '2025-06-16T09:09:30.792-0300', 'customfield_10020': None, 'customfield_10021': None, 'customfield_10022': '2024-05-01', 'customfield_10023': '2026-01-01', 'customfield_10024': None, 'customfield_10025': None, 'customfield_10016': None, 'customfield_10017': None, 'customfield_10019': '0|i00oae:', 'updated': '2025-06-25T16:57:21.149-0300', 'customfield_10090': None, 'customfield_10091': None, 'customfield_10092': None, 'customfield_10093': None, 'timeoriginalestimate': None, 'customfield_10095': None, 'customfield_10096': None, 'customfield_10250': None, 'customfield_10097': None, 'description': None, 'customfield_10010': None, 'customfield_10098': None, 'customfield_10099': None, 'customfield_10014': None, 'timetracking': {}, 'customfield_10015': None, 'customfield_10005': None, 'customfield_10247': None, 'customfield_10248': None, 'customfield_10006': None, 'customfield_10249': None, 'customfield_10007': None, 'security': None, 'customfield_10008': None, 'attachment': [], 'customfield_10009': None, 'summary': 'Careflow', 'customfield_10083': {'self': 'https://tigruposalus.atlassian.net/rest/api/3/customFieldOption/10249', 'value': 'Franqueadora', 'id': '10249'}, 'customfield_10084': None, 'customfield_10085': None, 'customfield_10086': None, 'customfield_10087': None, 'customfield_10089': None, 'customfield_10001': None, 'customfield_10002': [], 'customfield_10003': None, 'customfield_10245': {'self': 'https://tigruposalus.atlassian.net/rest/api/3/customFieldOption/10471', 'value': 'Presidência', 'id': '10471'}, 'customfield_10004': None, 'customfield_10246': None, 'customfield_10115': None, 'customfield_10116': None, 'environment': None, 'customfield_10117': None, 'customfield_10119': None, 'duedate': None, 'comment': {'comments': [], 'self': 'https://tigruposalus.atlassian.net/rest/api/3/issue/17125/comment', 'maxResults': 0, 'total': 0, 'startAt': 0}}}\n",
      "Tempo em cada status (em dias):\n",
      "Backlog Priorizado: 7.1 dias\n",
      "In Progress: 6.0 dias\n"
     ]
    }
   ],
   "source": [
    "import pandas as pd # type: ignore\n",
    "from services.jira_service import JiraService  # seu service acima\n",
    "from datetime import datetime\n",
    "from services.jira_parser import parse_issues_to_dataframe_espaco_de_projetos, prepare_dataframe_for_json_export\n",
    "import json\n",
    "from datetime import timedelta\n",
    "\n",
    "jira = JiraService()\n",
    "#tetstar changelog\n",
    "issue_key = \"EP-5\"\n",
    "\n",
    "def calcular_tempo_por_status(changelog: dict, data_criacao: datetime) -> dict:\n",
    "    \"\"\"\n",
    "    Calcula o tempo total em cada status com base no changelog da issue.\n",
    "    Retorna um dicionário com nome do status e total de dias que permaneceu nele.\n",
    "    \"\"\"\n",
    "    from collections import defaultdict\n",
    "\n",
    "    tempos_por_status = defaultdict(timedelta)\n",
    "    \n",
    "\n",
    "    historico = changelog.get(\"changelog\", {}).get(\"histories\", [])\n",
    "    historico_ordenado = sorted(historico, key=lambda h: h[\"created\"])\n",
    "\n",
    "    status_anterior = None\n",
    "    data_anterior = data_criacao\n",
    "\n",
    "    for item in historico_ordenado:\n",
    "        data_atual = pd.to_datetime(item[\"created\"])\n",
    "\n",
    "        for change in item.get(\"items\", []):\n",
    "            if change[\"field\"] == \"status\":\n",
    "                novo_status = change[\"toString\"]\n",
    "\n",
    "                if status_anterior:\n",
    "                    tempos_por_status[status_anterior] += data_atual - data_anterior\n",
    "\n",
    "                status_anterior = novo_status\n",
    "                data_anterior = data_atual\n",
    "\n",
    "    # Adiciona tempo até hoje, se ainda estiver em um status\n",
    "    if status_anterior:\n",
    "        tempos_por_status[status_anterior] += pd.Timestamp.now(tz=data_anterior.tz) - data_anterior\n",
    "\n",
    "\n",
    "    # Converte timedelta para dias\n",
    "    return {status: round(td.total_seconds() / 86400, 1) for status, td in tempos_por_status.items()}\n",
    "\n",
    "issue = jira.get_issue_with_changelog(issue_key)\n",
    "print(issue)\n",
    "\n",
    "\n",
    "data_criacao = pd.to_datetime(issue[\"fields\"][\"created\"])\n",
    "resultado = calcular_tempo_por_status(issue, data_criacao)\n",
    "\n",
    "print(\"Tempo em cada status (em dias):\")\n",
    "for status, dias in resultado.items():\n",
    "    print(f\"{status}: {dias} dias\")\n",
    "\n",
    "\n",
    "\n"
   ]
  },
  {
   "cell_type": "code",
   "execution_count": null,
   "metadata": {},
   "outputs": [],
   "source": [
    "for i, issue in enumerate(issues[\"issues\"]):\n",
    "    if issue['key'] == \"EP-38\":\n",
    "        print(issue.get(\"fields\", {}).get(\"customfield_10278\", {}).get(\"value\"))\n",
    "        print(f\"{issue}\")\n",
    "        break"
   ]
  },
  {
   "cell_type": "code",
   "execution_count": null,
   "metadata": {},
   "outputs": [],
   "source": []
  },
  {
   "cell_type": "code",
   "execution_count": null,
   "metadata": {},
   "outputs": [],
   "source": []
  },
  {
   "cell_type": "code",
   "execution_count": null,
   "metadata": {},
   "outputs": [],
   "source": []
  },
  {
   "cell_type": "code",
   "execution_count": null,
   "metadata": {},
   "outputs": [],
   "source": []
  },
  {
   "cell_type": "code",
   "execution_count": null,
   "metadata": {},
   "outputs": [],
   "source": []
  },
  {
   "cell_type": "code",
   "execution_count": null,
   "metadata": {},
   "outputs": [],
   "source": [
    "\n",
    "for i, issue in enumerate(issues[\"issues\"]):\n",
    "    if issue['fields']['status']['name'] == \"Backlog\":\n",
    "        print(f\"Título - {issue['fields']['summary']}\")\n",
    "\n",
    "    # if issue[\"key\"] == \"EP-3\":\n",
    "    #     print(f\"ID - {issue['id']}\")\n",
    "    #     print(f\"Tipo - {issue['fields']['issuetype']['name']}\")\n",
    "    #     print(f\"Chave - {issue['key']}\")\n",
    "    #     print(f\"Título - {issue['fields']['summary']}\")\n",
    "    #     print(f\"Prioridade - {issue['fields']['priority']['name']}\")\n",
    "    #     print(f\"Descrição - {issue['fields']['description']['content'][0]['content'][0]['text']}\")\n",
    "    #     print(f\"Aprovador por (diretor) - {issue['fields']['customfield_10250']}\")\n",
    "    #     print(f\"Beneficios Esperados - {issue['fields']['customfield_10248']['content'][0]['content'][0]['text']}\")\n",
    "    #     print(f\"Status - {issue['fields']['status']['name']}\")\n",
    "    #     print(f\"Grupo Solicitante - {issue['fields']['customfield_10083']['value']}\")\n",
    "    #     print(f\"Departamento solicitante - {issue['fields']['customfield_10245']['value']}\")\n",
    "    #     print(f\"Solicitante - {issue['fields']['customfield_10093']['content'][0]['content'][0]['text']}\")\n",
    "    #     print(f\"Responsável - {issue['fields']['assignee']['displayName']}\")\n",
    "    #     print(f\"Telefone do Solicitante - {issue['fields']['customfield_10246']}\")\n",
    "    #     print(f\"Email do Solicitante - {issue['fields']['customfield_10247']}\")\n",
    "    #     print(f\"Relator - {issue['fields']['creator']['displayName']}\")\n",
    "    #     print(f\"Categoria - {issue['fields']['labels'][0]}\")\n",
    "    #     print(f\"Estimativa original - {issue['fields']['timeoriginalestimate']}\")\n",
    "    #     print(f\"Controle de tempo - {issue['fields']['timetracking']['timeSpent']}\")\n",
    "    #     print(f\"Investimento Esperado - {issue['fields']['customfield_10249']}\")\n",
    "    #     print(f\"Target start - {issue['fields']['customfield_10022']}\")\n",
    "    #     print(f\"Target end - {issue['fields']['customfield_10023']}\")\n",
    "    #     print(f\"Data de criação - {issue['fields']['created']}\")\n",
    "    #     print(f\"Data de atualização - {issue['fields']['updated']}\")\n",
    "    #     print(f\"Data de término - {issue['fields']['resolutiondate']}\")\n",
    "\n",
    "\n",
    " \n",
    "\n",
    "\n",
    "\n",
    "\n"
   ]
  },
  {
   "cell_type": "code",
   "execution_count": null,
   "metadata": {},
   "outputs": [],
   "source": []
  },
  {
   "cell_type": "code",
   "execution_count": null,
   "metadata": {},
   "outputs": [],
   "source": []
  }
 ],
 "metadata": {
  "kernelspec": {
   "display_name": ".venv",
   "language": "python",
   "name": "python3"
  },
  "language_info": {
   "codemirror_mode": {
    "name": "ipython",
    "version": 3
   },
   "file_extension": ".py",
   "mimetype": "text/x-python",
   "name": "python",
   "nbconvert_exporter": "python",
   "pygments_lexer": "ipython3",
   "version": "3.11.9"
  }
 },
 "nbformat": 4,
 "nbformat_minor": 2
}
