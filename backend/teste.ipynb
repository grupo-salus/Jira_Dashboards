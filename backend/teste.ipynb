{
 "cells": [
  {
   "cell_type": "code",
   "execution_count": 1,
   "metadata": {},
   "outputs": [
    {
     "name": "stdout",
     "output_type": "stream",
     "text": [
      "🔄 Buscando todas as issues ordenadas por Rank do projeto 'EP'...\n",
      "✅ 20 issues encontradas no projeto 'EP'.\n",
      "Issue: EP-6 - Nome: Renovação de Certificados SSL Olhar Certo -Status: Backlog Priorizado\n",
      "Issue: EP-15 - Nome: Contas a Pagar Simplificado -Status: Backlog Priorizado\n",
      "Issue: EP-1 - Nome: Criação do Dashboard Geral Marketing -Status: Backlog Priorizado\n",
      "Issue: EP-5 - Nome: Careflow -Status: Backlog Priorizado\n"
     ]
    }
   ],
   "source": [
    "import pandas as pd\n",
    "from services.jira_service import JiraService  # seu service acima\n",
    "from datetime import datetime\n",
    "from services.jira_parser import parse_issues_to_dataframe_espaco_de_projetos, prepare_dataframe_for_json_export\n",
    "import json\n",
    "\n",
    "\n",
    "jira = JiraService()\n",
    "issues = jira.get_all_issues_from_project(\"EP\")  # ou outro projeto\n",
    "\n",
    "for issue in issues[\"issues\"]:\n",
    "    status = issue['fields']['status']['name']\n",
    "    if str(status).lower() == \"backlog priorizado\":\n",
    "        print(f\"Issue: {issue['key']} - Nome: {issue['fields']['summary']} -Status: {status}\")\n",
    "\n",
    "\n",
    "    # if issue[\"key\"] == \"EP-3\":\n",
    "    #     #parser para json\n",
    "    #     df = parse_issues_to_dataframe_espaco_de_projetos([issue])\n",
    "    #     df.to_json(\"ep_3.json\", orient=\"records\")\n",
    "    #     break\n",
    "\n",
    "\n",
    "\n",
    "\n"
   ]
  },
  {
   "cell_type": "code",
   "execution_count": null,
   "metadata": {},
   "outputs": [],
   "source": [
    "\n",
    "for i, issue in enumerate(issues[\"issues\"]):\n",
    "    if issue['fields']['status']['name'] == \"Backlog\":\n",
    "        print(f\"Título - {issue['fields']['summary']}\")\n",
    "\n",
    "    # if issue[\"key\"] == \"EP-3\":\n",
    "    #     print(f\"ID - {issue['id']}\")\n",
    "    #     print(f\"Tipo - {issue['fields']['issuetype']['name']}\")\n",
    "    #     print(f\"Chave - {issue['key']}\")\n",
    "    #     print(f\"Título - {issue['fields']['summary']}\")\n",
    "    #     print(f\"Prioridade - {issue['fields']['priority']['name']}\")\n",
    "    #     print(f\"Descrição - {issue['fields']['description']['content'][0]['content'][0]['text']}\")\n",
    "    #     print(f\"Aprovador por (diretor) - {issue['fields']['customfield_10250']}\")\n",
    "    #     print(f\"Beneficios Esperados - {issue['fields']['customfield_10248']['content'][0]['content'][0]['text']}\")\n",
    "    #     print(f\"Status - {issue['fields']['status']['name']}\")\n",
    "    #     print(f\"Grupo Solicitante - {issue['fields']['customfield_10083']['value']}\")\n",
    "    #     print(f\"Departamento solicitante - {issue['fields']['customfield_10245']['value']}\")\n",
    "    #     print(f\"Solicitante - {issue['fields']['customfield_10093']['content'][0]['content'][0]['text']}\")\n",
    "    #     print(f\"Responsável - {issue['fields']['assignee']['displayName']}\")\n",
    "    #     print(f\"Telefone do Solicitante - {issue['fields']['customfield_10246']}\")\n",
    "    #     print(f\"Email do Solicitante - {issue['fields']['customfield_10247']}\")\n",
    "    #     print(f\"Relator - {issue['fields']['creator']['displayName']}\")\n",
    "    #     print(f\"Categoria - {issue['fields']['labels'][0]}\")\n",
    "    #     print(f\"Estimativa original - {issue['fields']['timeoriginalestimate']}\")\n",
    "    #     print(f\"Controle de tempo - {issue['fields']['timetracking']['timeSpent']}\")\n",
    "    #     print(f\"Investimento Esperado - {issue['fields']['customfield_10249']}\")\n",
    "    #     print(f\"Target start - {issue['fields']['customfield_10022']}\")\n",
    "    #     print(f\"Target end - {issue['fields']['customfield_10023']}\")\n",
    "    #     print(f\"Data de criação - {issue['fields']['created']}\")\n",
    "    #     print(f\"Data de atualização - {issue['fields']['updated']}\")\n",
    "    #     print(f\"Data de término - {issue['fields']['resolutiondate']}\")\n",
    "\n",
    "\n",
    " \n",
    "\n",
    "\n",
    "\n",
    "\n"
   ]
  },
  {
   "cell_type": "code",
   "execution_count": null,
   "metadata": {},
   "outputs": [],
   "source": []
  },
  {
   "cell_type": "code",
   "execution_count": null,
   "metadata": {},
   "outputs": [],
   "source": []
  }
 ],
 "metadata": {
  "kernelspec": {
   "display_name": ".venv",
   "language": "python",
   "name": "python3"
  },
  "language_info": {
   "codemirror_mode": {
    "name": "ipython",
    "version": 3
   },
   "file_extension": ".py",
   "mimetype": "text/x-python",
   "name": "python",
   "nbconvert_exporter": "python",
   "pygments_lexer": "ipython3",
   "version": "3.11.9"
  }
 },
 "nbformat": 4,
 "nbformat_minor": 2
}
