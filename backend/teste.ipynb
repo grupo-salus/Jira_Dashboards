{
 "cells": [
  {
   "cell_type": "code",
   "execution_count": 1,
   "metadata": {},
   "outputs": [
    {
     "name": "stdout",
     "output_type": "stream",
     "text": [
      "🔄 Buscando todas as issues completas do projeto 'BL'...\n",
      "✅ 429 issues encontradas no projeto 'BL'.\n"
     ]
    }
   ],
   "source": [
    "import pandas as pd\n",
    "from services.jira_service import JiraService  # seu service acima\n",
    "from datetime import datetime\n",
    "from services.jira_parser import parse_issues_to_dataframe, parse_issues_time_to_dataframe\n",
    "import json\n",
    "\n",
    "\n",
    "jira = JiraService()\n",
    "issues = jira.get_all_issues_from_project(\"BL\")  # ou outro projeto\n",
    "\n",
    "df = parse_issues_time_to_dataframe(issues[\"issues\"])\n",
    "df.to_excel(\"relatorio_acompanhamento_ti.xlsx\", index=False)\n"
   ]
  },
  {
   "cell_type": "code",
   "execution_count": 2,
   "metadata": {},
   "outputs": [
    {
     "name": "stdout",
     "output_type": "stream",
     "text": [
      "{'expand': 'operations,versionedRepresentations,editmeta,changelog,renderedFields', 'id': '16974', 'self': 'https://tigruposalus.atlassian.net/rest/api/3/issue/16974', 'key': 'BL-442', 'fields': {'statuscategorychangedate': '2025-06-12T15:48:05.234-0300', 'issuetype': {'self': 'https://tigruposalus.atlassian.net/rest/api/3/issuetype/10349', 'id': '10349', 'description': 'Tarefas rastreiam partes de trabalho pequenas e distintas.', 'iconUrl': 'https://tigruposalus.atlassian.net/rest/api/2/universal_avatar/view/type/issuetype/avatar/10318?size=medium', 'name': 'Tarefa', 'subtask': False, 'avatarId': 10318, 'entityId': 'cb763b08-fee4-4b69-82b4-3e92d9cfedce', 'hierarchyLevel': 0}, 'timespent': 6600, 'project': {'self': 'https://tigruposalus.atlassian.net/rest/api/3/project/10085', 'id': '10085', 'key': 'BL', 'name': 'Acompanhamento TI', 'projectTypeKey': 'business', 'simplified': True, 'avatarUrls': {'48x48': 'https://tigruposalus.atlassian.net/rest/api/3/universal_avatar/view/type/project/avatar/10591', '24x24': 'https://tigruposalus.atlassian.net/rest/api/3/universal_avatar/view/type/project/avatar/10591?size=small', '16x16': 'https://tigruposalus.atlassian.net/rest/api/3/universal_avatar/view/type/project/avatar/10591?size=xsmall', '32x32': 'https://tigruposalus.atlassian.net/rest/api/3/universal_avatar/view/type/project/avatar/10591?size=medium'}, 'projectCategory': {'self': 'https://tigruposalus.atlassian.net/rest/api/3/projectCategory/10000', 'id': '10000', 'description': 'Gestão a Vista', 'name': 'Gestão a Vista'}}, 'fixVersions': [], 'aggregatetimespent': 6600, 'statusCategory': {'self': 'https://tigruposalus.atlassian.net/rest/api/3/statuscategory/4', 'id': 4, 'key': 'indeterminate', 'colorName': 'yellow', 'name': 'Em andamento'}, 'resolution': None, 'customfield_10112': '2025-06-13', 'resolutiondate': None, 'workratio': -1, 'watches': {'self': 'https://tigruposalus.atlassian.net/rest/api/3/issue/BL-442/watchers', 'watchCount': 1, 'isWatching': True}, 'lastViewed': '2025-06-12T18:29:29.333-0300', 'created': '2025-06-05T09:49:57.700-0300', 'customfield_10021': None, 'priority': {'self': 'https://tigruposalus.atlassian.net/rest/api/3/priority/3', 'iconUrl': 'https://tigruposalus.atlassian.net/images/icons/priorities/medium.svg', 'name': 'Medium', 'id': '3'}, 'customfield_10101': None, 'labels': ['PROJETOS'], 'customfield_10019': '0|i00nxq:', 'timeestimate': 0, 'aggregatetimeoriginalestimate': None, 'versions': [], 'issuelinks': [], 'assignee': {'self': 'https://tigruposalus.atlassian.net/rest/api/3/user?accountId=712020%3Ac9f2d403-ea3a-4a17-9f3b-672968c1f8ca', 'accountId': '712020:c9f2d403-ea3a-4a17-9f3b-672968c1f8ca', 'emailAddress': 'luis.gfonseca@gruposalus.com.br', 'avatarUrls': {'48x48': 'https://avatar-management--avatars.us-west-2.prod.public.atl-paas.net/712020:c9f2d403-ea3a-4a17-9f3b-672968c1f8ca/fdf19ed7-cebf-439c-b3ae-8a9de91c3a8f/48', '24x24': 'https://avatar-management--avatars.us-west-2.prod.public.atl-paas.net/712020:c9f2d403-ea3a-4a17-9f3b-672968c1f8ca/fdf19ed7-cebf-439c-b3ae-8a9de91c3a8f/24', '16x16': 'https://avatar-management--avatars.us-west-2.prod.public.atl-paas.net/712020:c9f2d403-ea3a-4a17-9f3b-672968c1f8ca/fdf19ed7-cebf-439c-b3ae-8a9de91c3a8f/16', '32x32': 'https://avatar-management--avatars.us-west-2.prod.public.atl-paas.net/712020:c9f2d403-ea3a-4a17-9f3b-672968c1f8ca/fdf19ed7-cebf-439c-b3ae-8a9de91c3a8f/32'}, 'displayName': 'Luis Henrique Gomes da Fonseca', 'active': True, 'timeZone': 'America/Sao_Paulo', 'accountType': 'atlassian'}, 'updated': '2025-06-12T18:26:14.545-0300', 'status': {'self': 'https://tigruposalus.atlassian.net/rest/api/3/status/10184', 'description': '', 'iconUrl': 'https://tigruposalus.atlassian.net/', 'name': 'EM ANDAMENTO', 'id': '10184', 'statusCategory': {'self': 'https://tigruposalus.atlassian.net/rest/api/3/statuscategory/4', 'id': 4, 'key': 'indeterminate', 'colorName': 'yellow', 'name': 'Em andamento'}}, 'components': [], 'customfield_10092': {'self': 'https://tigruposalus.atlassian.net/rest/api/3/customFieldOption/10264', 'value': 'Atividade', 'id': '10264'}, 'timeoriginalestimate': None, 'description': {'type': 'doc', 'version': 1, 'content': [{'type': 'paragraph', 'content': [{'type': 'text', 'text': 'Para a construção do dashboard para a visão indivudal da equipe de t.i precisa mapear os campos personalizados nos cards'}]}]}, 'customfield_10175': None, 'timetracking': {'remainingEstimate': '0m', 'timeSpent': '1h 50m', 'remainingEstimateSeconds': 0, 'timeSpentSeconds': 6600}, 'customfield_10015': '2025-06-12', 'security': None, 'attachment': [], 'aggregatetimeestimate': 0, 'summary': 'Jira :: Mapeamento da API para construção do dash [Acompanhamentos T.I]', 'creator': {'self': 'https://tigruposalus.atlassian.net/rest/api/3/user?accountId=712020%3Ac9f2d403-ea3a-4a17-9f3b-672968c1f8ca', 'accountId': '712020:c9f2d403-ea3a-4a17-9f3b-672968c1f8ca', 'emailAddress': 'luis.gfonseca@gruposalus.com.br', 'avatarUrls': {'48x48': 'https://avatar-management--avatars.us-west-2.prod.public.atl-paas.net/712020:c9f2d403-ea3a-4a17-9f3b-672968c1f8ca/fdf19ed7-cebf-439c-b3ae-8a9de91c3a8f/48', '24x24': 'https://avatar-management--avatars.us-west-2.prod.public.atl-paas.net/712020:c9f2d403-ea3a-4a17-9f3b-672968c1f8ca/fdf19ed7-cebf-439c-b3ae-8a9de91c3a8f/24', '16x16': 'https://avatar-management--avatars.us-west-2.prod.public.atl-paas.net/712020:c9f2d403-ea3a-4a17-9f3b-672968c1f8ca/fdf19ed7-cebf-439c-b3ae-8a9de91c3a8f/16', '32x32': 'https://avatar-management--avatars.us-west-2.prod.public.atl-paas.net/712020:c9f2d403-ea3a-4a17-9f3b-672968c1f8ca/fdf19ed7-cebf-439c-b3ae-8a9de91c3a8f/32'}, 'displayName': 'Luis Henrique Gomes da Fonseca', 'active': True, 'timeZone': 'America/Sao_Paulo', 'accountType': 'atlassian'}, 'subtasks': [], 'reporter': {'self': 'https://tigruposalus.atlassian.net/rest/api/3/user?accountId=712020%3Ac9f2d403-ea3a-4a17-9f3b-672968c1f8ca', 'accountId': '712020:c9f2d403-ea3a-4a17-9f3b-672968c1f8ca', 'emailAddress': 'luis.gfonseca@gruposalus.com.br', 'avatarUrls': {'48x48': 'https://avatar-management--avatars.us-west-2.prod.public.atl-paas.net/712020:c9f2d403-ea3a-4a17-9f3b-672968c1f8ca/fdf19ed7-cebf-439c-b3ae-8a9de91c3a8f/48', '24x24': 'https://avatar-management--avatars.us-west-2.prod.public.atl-paas.net/712020:c9f2d403-ea3a-4a17-9f3b-672968c1f8ca/fdf19ed7-cebf-439c-b3ae-8a9de91c3a8f/24', '16x16': 'https://avatar-management--avatars.us-west-2.prod.public.atl-paas.net/712020:c9f2d403-ea3a-4a17-9f3b-672968c1f8ca/fdf19ed7-cebf-439c-b3ae-8a9de91c3a8f/16', '32x32': 'https://avatar-management--avatars.us-west-2.prod.public.atl-paas.net/712020:c9f2d403-ea3a-4a17-9f3b-672968c1f8ca/fdf19ed7-cebf-439c-b3ae-8a9de91c3a8f/32'}, 'displayName': 'Luis Henrique Gomes da Fonseca', 'active': True, 'timeZone': 'America/Sao_Paulo', 'accountType': 'atlassian'}, 'aggregateprogress': {'progress': 6600, 'total': 6600, 'percent': 100}, 'customfield_10001': None, 'environment': None, 'customfield_10117': None, 'customfield_10119': {'self': 'https://tigruposalus.atlassian.net/rest/api/3/customFieldOption/10466', 'value': 'Administrativo', 'id': '10466'}, 'duedate': '2025-06-20', 'progress': {'progress': 6600, 'total': 6600, 'percent': 100}, 'votes': {'self': 'https://tigruposalus.atlassian.net/rest/api/3/issue/BL-442/votes', 'votes': 0, 'hasVoted': False}, 'comment': {'comments': [], 'self': 'https://tigruposalus.atlassian.net/rest/api/3/issue/16974/comment', 'maxResults': 0, 'total': 0, 'startAt': 0}, 'worklog': {'startAt': 0, 'maxResults': 20, 'total': 2, 'worklogs': [{'self': 'https://tigruposalus.atlassian.net/rest/api/3/issue/16974/worklog/15680', 'author': {'self': 'https://tigruposalus.atlassian.net/rest/api/3/user?accountId=712020%3Ac9f2d403-ea3a-4a17-9f3b-672968c1f8ca', 'accountId': '712020:c9f2d403-ea3a-4a17-9f3b-672968c1f8ca', 'emailAddress': 'luis.gfonseca@gruposalus.com.br', 'avatarUrls': {'48x48': 'https://avatar-management--avatars.us-west-2.prod.public.atl-paas.net/712020:c9f2d403-ea3a-4a17-9f3b-672968c1f8ca/fdf19ed7-cebf-439c-b3ae-8a9de91c3a8f/48', '24x24': 'https://avatar-management--avatars.us-west-2.prod.public.atl-paas.net/712020:c9f2d403-ea3a-4a17-9f3b-672968c1f8ca/fdf19ed7-cebf-439c-b3ae-8a9de91c3a8f/24', '16x16': 'https://avatar-management--avatars.us-west-2.prod.public.atl-paas.net/712020:c9f2d403-ea3a-4a17-9f3b-672968c1f8ca/fdf19ed7-cebf-439c-b3ae-8a9de91c3a8f/16', '32x32': 'https://avatar-management--avatars.us-west-2.prod.public.atl-paas.net/712020:c9f2d403-ea3a-4a17-9f3b-672968c1f8ca/fdf19ed7-cebf-439c-b3ae-8a9de91c3a8f/32'}, 'displayName': 'Luis Henrique Gomes da Fonseca', 'active': True, 'timeZone': 'America/Sao_Paulo', 'accountType': 'atlassian'}, 'updateAuthor': {'self': 'https://tigruposalus.atlassian.net/rest/api/3/user?accountId=712020%3Ac9f2d403-ea3a-4a17-9f3b-672968c1f8ca', 'accountId': '712020:c9f2d403-ea3a-4a17-9f3b-672968c1f8ca', 'emailAddress': 'luis.gfonseca@gruposalus.com.br', 'avatarUrls': {'48x48': 'https://avatar-management--avatars.us-west-2.prod.public.atl-paas.net/712020:c9f2d403-ea3a-4a17-9f3b-672968c1f8ca/fdf19ed7-cebf-439c-b3ae-8a9de91c3a8f/48', '24x24': 'https://avatar-management--avatars.us-west-2.prod.public.atl-paas.net/712020:c9f2d403-ea3a-4a17-9f3b-672968c1f8ca/fdf19ed7-cebf-439c-b3ae-8a9de91c3a8f/24', '16x16': 'https://avatar-management--avatars.us-west-2.prod.public.atl-paas.net/712020:c9f2d403-ea3a-4a17-9f3b-672968c1f8ca/fdf19ed7-cebf-439c-b3ae-8a9de91c3a8f/16', '32x32': 'https://avatar-management--avatars.us-west-2.prod.public.atl-paas.net/712020:c9f2d403-ea3a-4a17-9f3b-672968c1f8ca/fdf19ed7-cebf-439c-b3ae-8a9de91c3a8f/32'}, 'displayName': 'Luis Henrique Gomes da Fonseca', 'active': True, 'timeZone': 'America/Sao_Paulo', 'accountType': 'atlassian'}, 'comment': {'type': 'doc', 'version': 1, 'content': [{'type': 'paragraph', 'content': [{'type': 'text', 'text': '[BL-442]: Jira :: Mapeamento da API para construção do dash [Acompanhamentos T.I]'}]}]}, 'created': '2025-06-12T16:14:09.541-0300', 'updated': '2025-06-12T16:14:09.541-0300', 'started': '2025-06-12T16:14:01.000-0300', 'timeSpent': '1m', 'timeSpentSeconds': 60, 'id': '15680', 'issueId': '16974'}, {'self': 'https://tigruposalus.atlassian.net/rest/api/3/issue/16974/worklog/15682', 'author': {'self': 'https://tigruposalus.atlassian.net/rest/api/3/user?accountId=712020%3Ac9f2d403-ea3a-4a17-9f3b-672968c1f8ca', 'accountId': '712020:c9f2d403-ea3a-4a17-9f3b-672968c1f8ca', 'emailAddress': 'luis.gfonseca@gruposalus.com.br', 'avatarUrls': {'48x48': 'https://avatar-management--avatars.us-west-2.prod.public.atl-paas.net/712020:c9f2d403-ea3a-4a17-9f3b-672968c1f8ca/fdf19ed7-cebf-439c-b3ae-8a9de91c3a8f/48', '24x24': 'https://avatar-management--avatars.us-west-2.prod.public.atl-paas.net/712020:c9f2d403-ea3a-4a17-9f3b-672968c1f8ca/fdf19ed7-cebf-439c-b3ae-8a9de91c3a8f/24', '16x16': 'https://avatar-management--avatars.us-west-2.prod.public.atl-paas.net/712020:c9f2d403-ea3a-4a17-9f3b-672968c1f8ca/fdf19ed7-cebf-439c-b3ae-8a9de91c3a8f/16', '32x32': 'https://avatar-management--avatars.us-west-2.prod.public.atl-paas.net/712020:c9f2d403-ea3a-4a17-9f3b-672968c1f8ca/fdf19ed7-cebf-439c-b3ae-8a9de91c3a8f/32'}, 'displayName': 'Luis Henrique Gomes da Fonseca', 'active': True, 'timeZone': 'America/Sao_Paulo', 'accountType': 'atlassian'}, 'updateAuthor': {'self': 'https://tigruposalus.atlassian.net/rest/api/3/user?accountId=712020%3Ac9f2d403-ea3a-4a17-9f3b-672968c1f8ca', 'accountId': '712020:c9f2d403-ea3a-4a17-9f3b-672968c1f8ca', 'emailAddress': 'luis.gfonseca@gruposalus.com.br', 'avatarUrls': {'48x48': 'https://avatar-management--avatars.us-west-2.prod.public.atl-paas.net/712020:c9f2d403-ea3a-4a17-9f3b-672968c1f8ca/fdf19ed7-cebf-439c-b3ae-8a9de91c3a8f/48', '24x24': 'https://avatar-management--avatars.us-west-2.prod.public.atl-paas.net/712020:c9f2d403-ea3a-4a17-9f3b-672968c1f8ca/fdf19ed7-cebf-439c-b3ae-8a9de91c3a8f/24', '16x16': 'https://avatar-management--avatars.us-west-2.prod.public.atl-paas.net/712020:c9f2d403-ea3a-4a17-9f3b-672968c1f8ca/fdf19ed7-cebf-439c-b3ae-8a9de91c3a8f/16', '32x32': 'https://avatar-management--avatars.us-west-2.prod.public.atl-paas.net/712020:c9f2d403-ea3a-4a17-9f3b-672968c1f8ca/fdf19ed7-cebf-439c-b3ae-8a9de91c3a8f/32'}, 'displayName': 'Luis Henrique Gomes da Fonseca', 'active': True, 'timeZone': 'America/Sao_Paulo', 'accountType': 'atlassian'}, 'comment': {'type': 'doc', 'version': 1, 'content': [{'type': 'paragraph', 'content': [{'type': 'text', 'text': '[BL-442]: Jira :: Mapeamento da API para construção do dash [Acompanhamentos T.I]'}]}]}, 'created': '2025-06-12T18:04:01.019-0300', 'updated': '2025-06-12T18:04:01.019-0300', 'started': '2025-06-12T16:14:13.000-0300', 'timeSpent': '1h 49m', 'timeSpentSeconds': 6540, 'id': '15682', 'issueId': '16974'}]}}}\n"
     ]
    }
   ],
   "source": [
    "\n",
    "for i, issue in enumerate(issues[\"issues\"]):\n",
    "    if issue[\"key\"] == \"BL-442\":\n",
    "        print(issue)\n",
    "\n",
    " \n",
    "\n",
    "\n",
    "\n",
    "\n"
   ]
  }
 ],
 "metadata": {
  "kernelspec": {
   "display_name": ".venv",
   "language": "python",
   "name": "python3"
  },
  "language_info": {
   "codemirror_mode": {
    "name": "ipython",
    "version": 3
   },
   "file_extension": ".py",
   "mimetype": "text/x-python",
   "name": "python",
   "nbconvert_exporter": "python",
   "pygments_lexer": "ipython3",
   "version": "3.11.9"
  }
 },
 "nbformat": 4,
 "nbformat_minor": 2
}
