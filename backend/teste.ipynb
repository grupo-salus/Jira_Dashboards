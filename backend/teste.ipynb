{
 "cells": [
  {
   "cell_type": "code",
   "execution_count": 1,
   "metadata": {},
   "outputs": [
    {
     "name": "stdout",
     "output_type": "stream",
     "text": [
      "🔄 Coletando JSON completo do backlog (board 71)...\n",
      "✅ Total de 106 issues coletadas do backlog.\n"
     ]
    }
   ],
   "source": [
    "import pandas as pd\n",
    "from services.jira_service import JiraService  # seu service acima\n",
    "from datetime import datetime\n",
    "from services.jira_parser import parse_issues_to_dataframe\n",
    "import json\n",
    "\n",
    "\n",
    "jira = JiraService()\n",
    "board_id = 71  # atualize se necessário\n",
    "\n",
    "backlog_data = jira.get_raw_backlog_issues(board_id).get(\"issues\", [])\n",
    "backlog_df = parse_issues_to_dataframe(backlog_data)\n",
    "\n",
    "\n"
   ]
  },
  {
   "cell_type": "code",
   "execution_count": 2,
   "metadata": {},
   "outputs": [
    {
     "name": "stdout",
     "output_type": "stream",
     "text": [
      "106\n"
     ]
    }
   ],
   "source": [
    "print(len(backlog_data))"
   ]
  },
  {
   "cell_type": "code",
   "execution_count": 12,
   "metadata": {},
   "outputs": [
    {
     "name": "stdout",
     "output_type": "stream",
     "text": [
      "CNAB LP\n"
     ]
    }
   ],
   "source": [
    "for issue in backlog_data:\n",
    "    fields = issue.get(\"fields\", {})\n",
    "    if issue.get(\"key\") in [\"SQD-690\"]:\n",
    "        Épico = fields.get(\"epic\", {}).get(\"summary\") or \"Não informado\"\n",
    "        print(Épico)    \n",
    "\n",
    "\n",
    "\n",
    "\n",
    "\n",
    "\n"
   ]
  }
 ],
 "metadata": {
  "kernelspec": {
   "display_name": ".venv",
   "language": "python",
   "name": "python3"
  },
  "language_info": {
   "codemirror_mode": {
    "name": "ipython",
    "version": 3
   },
   "file_extension": ".py",
   "mimetype": "text/x-python",
   "name": "python",
   "nbconvert_exporter": "python",
   "pygments_lexer": "ipython3",
   "version": "3.11.9"
  }
 },
 "nbformat": 4,
 "nbformat_minor": 2
}
