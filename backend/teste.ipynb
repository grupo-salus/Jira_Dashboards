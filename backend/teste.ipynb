{
 "cells": [
  {
   "cell_type": "code",
   "execution_count": 1,
   "metadata": {},
   "outputs": [
    {
     "name": "stdout",
     "output_type": "stream",
     "text": [
      "Buscando todas as issues ordenadas por Rank do projeto 'EP'...\n",
      "25 issues encontradas no projeto 'EP'.\n",
      "Posição no backlog adicionada para 4 issues\n",
      "Sem datas suficientes para avaliação.\n",
      "Sem datas suficientes para avaliação.\n",
      "Sem datas suficientes para avaliação.\n",
      "Sem datas suficientes para avaliação.\n",
      "Sem datas suficientes para avaliação.\n",
      "Sem datas suficientes para avaliação.\n",
      "Sem datas suficientes para avaliação.\n",
      "Sem datas suficientes para avaliação.\n",
      "Sem datas suficientes para avaliação.\n",
      "Sem datas suficientes para avaliação.\n",
      "Sem datas suficientes para avaliação.\n",
      "Sem datas suficientes para avaliação.\n",
      "Sem datas suficientes para avaliação.\n",
      "Sem datas suficientes para avaliação.\n",
      "Sem datas suficientes para avaliação.\n",
      "Sem datas suficientes para avaliação.\n",
      "Sem datas suficientes para avaliação.\n",
      "Sem datas suficientes para avaliação.\n",
      "Sem datas suficientes para avaliação.\n",
      "Sem datas suficientes para avaliação.\n",
      "Sem datas suficientes para avaliação.\n",
      "Sem datas suficientes para avaliação.\n",
      "Sem datas suficientes para avaliação.\n",
      "issues do status backlog priorizado\n",
      "nome e posicao\n",
      "                                            Título  PosicaoBacklog\n",
      "15                                        Multipag               1\n",
      "18  Melhoria na Tela de Renegociação - Siso/Docbiz               2\n",
      "19                                   Boleto Rápido               3\n",
      "21                    Melhoria no BI Inadimplência               4\n"
     ]
    }
   ],
   "source": [
    "import pandas as pd # type: ignore\n",
    "from services.jira_service import JiraService  # seu service acima\n",
    "from datetime import datetime\n",
    "from services.jira_parser import parse_issues_to_dataframe_espaco_de_projetos, prepare_dataframe_for_json_export\n",
    "import json\n",
    "\n",
    "\n",
    "jira = JiraService()\n",
    "issues = jira.get_all_issues_from_project(\"EP\")  # ou outro projeto\n",
    "issues_df = parse_issues_to_dataframe_espaco_de_projetos(issues[\"issues\"])\n",
    "\n",
    "print(\"issues do status backlog priorizado\")\n",
    "backlog_priorizado_issues = issues_df[issues_df[\"Status\"] == \"Backlog Priorizado\"]\n",
    "print(\"nome e posicao\")\n",
    "print(backlog_priorizado_issues[[\"Título\", \"PosicaoBacklog\"]])\n",
    "\n",
    "\n",
    "\n",
    "\n",
    "\n",
    "\n"
   ]
  },
  {
   "cell_type": "code",
   "execution_count": 6,
   "metadata": {},
   "outputs": [
    {
     "name": "stdout",
     "output_type": "stream",
     "text": [
      "TI - Sistemas\n",
      "{'expand': 'operations,versionedRepresentations,editmeta,changelog,customfield_10010.requestTypePractice,renderedFields', 'id': '17323', 'self': 'https://tigruposalus.atlassian.net/rest/api/3/issue/17323', 'key': 'EP-38', 'fields': {'statuscategorychangedate': '2025-06-25T14:19:02.988-0300', 'fixVersions': [], 'statusCategory': {'self': 'https://tigruposalus.atlassian.net/rest/api/3/statuscategory/4', 'id': 4, 'key': 'indeterminate', 'colorName': 'yellow', 'name': 'Em andamento'}, 'resolution': None, 'customfield_10112': None, 'customfield_10113': None, 'customfield_10114': None, 'customfield_10105': None, 'customfield_10109': None, 'lastViewed': '2025-06-25T17:07:24.360-0300', 'priority': {'self': 'https://tigruposalus.atlassian.net/rest/api/3/priority/3', 'iconUrl': 'https://tigruposalus.atlassian.net/images/icons/priorities/medium.svg', 'name': 'Média', 'id': '3'}, 'customfield_10101': None, 'labels': [], 'timeestimate': None, 'aggregatetimeoriginalestimate': None, 'versions': [], 'issuelinks': [], 'assignee': {'self': 'https://tigruposalus.atlassian.net/rest/api/3/user?accountId=712020%3Ac9f2d403-ea3a-4a17-9f3b-672968c1f8ca', 'accountId': '712020:c9f2d403-ea3a-4a17-9f3b-672968c1f8ca', 'emailAddress': 'luis.gfonseca@gruposalus.com.br', 'avatarUrls': {'48x48': 'https://avatar-management--avatars.us-west-2.prod.public.atl-paas.net/712020:c9f2d403-ea3a-4a17-9f3b-672968c1f8ca/fdf19ed7-cebf-439c-b3ae-8a9de91c3a8f/48', '24x24': 'https://avatar-management--avatars.us-west-2.prod.public.atl-paas.net/712020:c9f2d403-ea3a-4a17-9f3b-672968c1f8ca/fdf19ed7-cebf-439c-b3ae-8a9de91c3a8f/24', '16x16': 'https://avatar-management--avatars.us-west-2.prod.public.atl-paas.net/712020:c9f2d403-ea3a-4a17-9f3b-672968c1f8ca/fdf19ed7-cebf-439c-b3ae-8a9de91c3a8f/16', '32x32': 'https://avatar-management--avatars.us-west-2.prod.public.atl-paas.net/712020:c9f2d403-ea3a-4a17-9f3b-672968c1f8ca/fdf19ed7-cebf-439c-b3ae-8a9de91c3a8f/32'}, 'displayName': 'Luis Henrique Gomes da Fonseca', 'active': True, 'timeZone': 'America/Sao_Paulo', 'accountType': 'atlassian'}, 'status': {'self': 'https://tigruposalus.atlassian.net/rest/api/3/status/10095', 'description': 'Este status é gerido internamente pelo Jira Software', 'iconUrl': 'https://tigruposalus.atlassian.net/', 'name': 'Em Homologação', 'id': '10095', 'statusCategory': {'self': 'https://tigruposalus.atlassian.net/rest/api/3/statuscategory/4', 'id': 4, 'key': 'indeterminate', 'colorName': 'yellow', 'name': 'Em andamento'}}, 'components': [], 'customfield_10050': None, 'customfield_10051': None, 'customfield_10052': [], 'customfield_10053': None, 'customfield_10054': None, 'customfield_10055': None, 'customfield_10056': None, 'customfield_10057': None, 'customfield_10212': None, 'customfield_10049': None, 'aggregatetimeestimate': None, 'creator': {'self': 'https://tigruposalus.atlassian.net/rest/api/3/user?accountId=712020%3Ac9f2d403-ea3a-4a17-9f3b-672968c1f8ca', 'accountId': '712020:c9f2d403-ea3a-4a17-9f3b-672968c1f8ca', 'emailAddress': 'luis.gfonseca@gruposalus.com.br', 'avatarUrls': {'48x48': 'https://avatar-management--avatars.us-west-2.prod.public.atl-paas.net/712020:c9f2d403-ea3a-4a17-9f3b-672968c1f8ca/fdf19ed7-cebf-439c-b3ae-8a9de91c3a8f/48', '24x24': 'https://avatar-management--avatars.us-west-2.prod.public.atl-paas.net/712020:c9f2d403-ea3a-4a17-9f3b-672968c1f8ca/fdf19ed7-cebf-439c-b3ae-8a9de91c3a8f/24', '16x16': 'https://avatar-management--avatars.us-west-2.prod.public.atl-paas.net/712020:c9f2d403-ea3a-4a17-9f3b-672968c1f8ca/fdf19ed7-cebf-439c-b3ae-8a9de91c3a8f/16', '32x32': 'https://avatar-management--avatars.us-west-2.prod.public.atl-paas.net/712020:c9f2d403-ea3a-4a17-9f3b-672968c1f8ca/fdf19ed7-cebf-439c-b3ae-8a9de91c3a8f/32'}, 'displayName': 'Luis Henrique Gomes da Fonseca', 'active': True, 'timeZone': 'America/Sao_Paulo', 'accountType': 'atlassian'}, 'subtasks': [], 'customfield_10040': None, 'customfield_10041': None, 'customfield_10042': None, 'reporter': {'self': 'https://tigruposalus.atlassian.net/rest/api/3/user?accountId=712020%3Ac9f2d403-ea3a-4a17-9f3b-672968c1f8ca', 'accountId': '712020:c9f2d403-ea3a-4a17-9f3b-672968c1f8ca', 'emailAddress': 'luis.gfonseca@gruposalus.com.br', 'avatarUrls': {'48x48': 'https://avatar-management--avatars.us-west-2.prod.public.atl-paas.net/712020:c9f2d403-ea3a-4a17-9f3b-672968c1f8ca/fdf19ed7-cebf-439c-b3ae-8a9de91c3a8f/48', '24x24': 'https://avatar-management--avatars.us-west-2.prod.public.atl-paas.net/712020:c9f2d403-ea3a-4a17-9f3b-672968c1f8ca/fdf19ed7-cebf-439c-b3ae-8a9de91c3a8f/24', '16x16': 'https://avatar-management--avatars.us-west-2.prod.public.atl-paas.net/712020:c9f2d403-ea3a-4a17-9f3b-672968c1f8ca/fdf19ed7-cebf-439c-b3ae-8a9de91c3a8f/16', '32x32': 'https://avatar-management--avatars.us-west-2.prod.public.atl-paas.net/712020:c9f2d403-ea3a-4a17-9f3b-672968c1f8ca/fdf19ed7-cebf-439c-b3ae-8a9de91c3a8f/32'}, 'displayName': 'Luis Henrique Gomes da Fonseca', 'active': True, 'timeZone': 'America/Sao_Paulo', 'accountType': 'atlassian'}, 'customfield_10043': None, 'aggregateprogress': {'progress': 0, 'total': 0}, 'customfield_10044': None, 'customfield_10045': None, 'customfield_10046': None, 'customfield_10047': None, 'customfield_10168': None, 'customfield_10048': None, 'customfield_10169': None, 'customfield_10038': None, 'customfield_10039': None, 'progress': {'progress': 0, 'total': 0}, 'votes': {'self': 'https://tigruposalus.atlassian.net/rest/api/3/issue/EP-38/votes', 'votes': 0, 'hasVoted': False}, 'worklog': {'startAt': 0, 'maxResults': 20, 'total': 0, 'worklogs': []}, 'issuetype': {'self': 'https://tigruposalus.atlassian.net/rest/api/3/issuetype/10105', 'id': '10105', 'description': 'Projeto', 'iconUrl': 'https://tigruposalus.atlassian.net/rest/api/2/universal_avatar/view/type/issuetype/avatar/10322?size=medium', 'name': 'Projeto', 'subtask': False, 'avatarId': 10322, 'hierarchyLevel': 2}, 'timespent': None, 'customfield_10150': None, 'customfield_10030': None, 'customfield_10031': [], 'project': {'self': 'https://tigruposalus.atlassian.net/rest/api/3/project/10445', 'id': '10445', 'key': 'EP', 'name': 'Espaço de Projetos', 'projectTypeKey': 'software', 'simplified': False, 'avatarUrls': {'48x48': 'https://tigruposalus.atlassian.net/rest/api/3/universal_avatar/view/type/project/avatar/10419', '24x24': 'https://tigruposalus.atlassian.net/rest/api/3/universal_avatar/view/type/project/avatar/10419?size=small', '16x16': 'https://tigruposalus.atlassian.net/rest/api/3/universal_avatar/view/type/project/avatar/10419?size=xsmall', '32x32': 'https://tigruposalus.atlassian.net/rest/api/3/universal_avatar/view/type/project/avatar/10419?size=medium'}}, 'customfield_10032': None, 'customfield_10153': None, 'customfield_10033': None, 'aggregatetimespent': None, 'customfield_10034': None, 'customfield_10035': None, 'customfield_10036': None, 'customfield_10278': {'self': 'https://tigruposalus.atlassian.net/rest/api/3/customFieldOption/10500', 'value': 'TI - Sistemas', 'id': '10500'}, 'customfield_10037': None, 'resolutiondate': None, 'workratio': -1, 'watches': {'self': 'https://tigruposalus.atlassian.net/rest/api/3/issue/EP-38/watchers', 'watchCount': 1, 'isWatching': True}, 'created': '2025-06-25T14:19:02.453-0300', 'customfield_10020': None, 'customfield_10021': None, 'customfield_10022': None, 'customfield_10023': None, 'customfield_10024': None, 'customfield_10025': None, 'customfield_10016': None, 'customfield_10017': None, 'customfield_10018': {'hasEpicLinkFieldDependency': False, 'showField': False, 'nonEditableReason': {'reason': 'TOP_OF_HIERARCHY', 'message': 'Um item na parte superior da hierarquia não pode ter um conjunto de pais.'}}, 'customfield_10019': '0|i00pbg:', 'updated': '2025-06-25T17:07:14.888-0300', 'customfield_10090': None, 'customfield_10091': None, 'customfield_10092': None, 'customfield_10093': None, 'timeoriginalestimate': None, 'customfield_10095': None, 'customfield_10096': None, 'customfield_10250': None, 'customfield_10097': None, 'description': None, 'customfield_10010': None, 'customfield_10098': None, 'customfield_10099': None, 'customfield_10014': None, 'timetracking': {}, 'customfield_10015': None, 'customfield_10005': None, 'customfield_10247': None, 'customfield_10248': None, 'customfield_10006': None, 'customfield_10249': None, 'customfield_10007': None, 'security': None, 'customfield_10008': None, 'attachment': [], 'customfield_10009': None, 'summary': 'luis teste', 'customfield_10083': None, 'customfield_10084': None, 'customfield_10085': None, 'customfield_10086': None, 'customfield_10087': None, 'customfield_10089': None, 'customfield_10001': None, 'customfield_10002': [], 'customfield_10003': None, 'customfield_10245': None, 'customfield_10004': None, 'customfield_10246': None, 'customfield_10115': None, 'customfield_10116': None, 'environment': None, 'customfield_10117': None, 'customfield_10119': None, 'duedate': None, 'comment': {'comments': [], 'self': 'https://tigruposalus.atlassian.net/rest/api/3/issue/17323/comment', 'maxResults': 0, 'total': 0, 'startAt': 0}}}\n"
     ]
    }
   ],
   "source": [
    "for i, issue in enumerate(issues[\"issues\"]):\n",
    "    if issue['key'] == \"EP-38\":\n",
    "        print(issue.get(\"fields\", {}).get(\"customfield_10278\", {}).get(\"value\"))\n",
    "        print(f\"{issue}\")\n",
    "        break"
   ]
  },
  {
   "cell_type": "code",
   "execution_count": null,
   "metadata": {},
   "outputs": [],
   "source": []
  },
  {
   "cell_type": "code",
   "execution_count": null,
   "metadata": {},
   "outputs": [],
   "source": []
  },
  {
   "cell_type": "code",
   "execution_count": null,
   "metadata": {},
   "outputs": [],
   "source": []
  },
  {
   "cell_type": "code",
   "execution_count": null,
   "metadata": {},
   "outputs": [],
   "source": []
  },
  {
   "cell_type": "code",
   "execution_count": null,
   "metadata": {},
   "outputs": [],
   "source": []
  },
  {
   "cell_type": "code",
   "execution_count": 3,
   "metadata": {},
   "outputs": [
    {
     "name": "stdout",
     "output_type": "stream",
     "text": [
      "Título - Simulador de Venda com Avaliação de Margem de Lucratividade\n",
      "Título - Topologia :: Prédio Anália Franco :: Cabeamento de Rede\n",
      "Título - Topologia :: Prédio Alphaville 3º Andar :: Cabeamento de Rede\n",
      "Título - Topologia :: Prédio 5º Andar :: Cabeamento de Rede\n",
      "Título - Topologia Server's :: SISO / Docbiz\n",
      "Título - Tipologia Sites :: Todos os Sites do Grupo Salus\n",
      "Título - Topologia Sistemas :: Mapeamentos de Sistemas Gerais\n",
      "Título - Melhoria na Tela de Pagamento - Siso\n",
      "Título - Ferramenta para Conciliação Bancária\n",
      "Título - Negativação de Inadimplentes\n",
      "Título - SULTS\n"
     ]
    }
   ],
   "source": [
    "\n",
    "for i, issue in enumerate(issues[\"issues\"]):\n",
    "    if issue['fields']['status']['name'] == \"Backlog\":\n",
    "        print(f\"Título - {issue['fields']['summary']}\")\n",
    "\n",
    "    # if issue[\"key\"] == \"EP-3\":\n",
    "    #     print(f\"ID - {issue['id']}\")\n",
    "    #     print(f\"Tipo - {issue['fields']['issuetype']['name']}\")\n",
    "    #     print(f\"Chave - {issue['key']}\")\n",
    "    #     print(f\"Título - {issue['fields']['summary']}\")\n",
    "    #     print(f\"Prioridade - {issue['fields']['priority']['name']}\")\n",
    "    #     print(f\"Descrição - {issue['fields']['description']['content'][0]['content'][0]['text']}\")\n",
    "    #     print(f\"Aprovador por (diretor) - {issue['fields']['customfield_10250']}\")\n",
    "    #     print(f\"Beneficios Esperados - {issue['fields']['customfield_10248']['content'][0]['content'][0]['text']}\")\n",
    "    #     print(f\"Status - {issue['fields']['status']['name']}\")\n",
    "    #     print(f\"Grupo Solicitante - {issue['fields']['customfield_10083']['value']}\")\n",
    "    #     print(f\"Departamento solicitante - {issue['fields']['customfield_10245']['value']}\")\n",
    "    #     print(f\"Solicitante - {issue['fields']['customfield_10093']['content'][0]['content'][0]['text']}\")\n",
    "    #     print(f\"Responsável - {issue['fields']['assignee']['displayName']}\")\n",
    "    #     print(f\"Telefone do Solicitante - {issue['fields']['customfield_10246']}\")\n",
    "    #     print(f\"Email do Solicitante - {issue['fields']['customfield_10247']}\")\n",
    "    #     print(f\"Relator - {issue['fields']['creator']['displayName']}\")\n",
    "    #     print(f\"Categoria - {issue['fields']['labels'][0]}\")\n",
    "    #     print(f\"Estimativa original - {issue['fields']['timeoriginalestimate']}\")\n",
    "    #     print(f\"Controle de tempo - {issue['fields']['timetracking']['timeSpent']}\")\n",
    "    #     print(f\"Investimento Esperado - {issue['fields']['customfield_10249']}\")\n",
    "    #     print(f\"Target start - {issue['fields']['customfield_10022']}\")\n",
    "    #     print(f\"Target end - {issue['fields']['customfield_10023']}\")\n",
    "    #     print(f\"Data de criação - {issue['fields']['created']}\")\n",
    "    #     print(f\"Data de atualização - {issue['fields']['updated']}\")\n",
    "    #     print(f\"Data de término - {issue['fields']['resolutiondate']}\")\n",
    "\n",
    "\n",
    " \n",
    "\n",
    "\n",
    "\n",
    "\n"
   ]
  },
  {
   "cell_type": "code",
   "execution_count": null,
   "metadata": {},
   "outputs": [],
   "source": []
  },
  {
   "cell_type": "code",
   "execution_count": null,
   "metadata": {},
   "outputs": [],
   "source": []
  }
 ],
 "metadata": {
  "kernelspec": {
   "display_name": ".venv",
   "language": "python",
   "name": "python3"
  },
  "language_info": {
   "codemirror_mode": {
    "name": "ipython",
    "version": 3
   },
   "file_extension": ".py",
   "mimetype": "text/x-python",
   "name": "python",
   "nbconvert_exporter": "python",
   "pygments_lexer": "ipython3",
   "version": "3.11.9"
  }
 },
 "nbformat": 4,
 "nbformat_minor": 2
}
