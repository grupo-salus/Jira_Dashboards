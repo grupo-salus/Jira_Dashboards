{
 "cells": [
  {
   "cell_type": "code",
   "execution_count": 2,
   "metadata": {},
   "outputs": [],
   "source": [
    "import pandas as pd # type: ignore\n",
    "import sys\n",
    "sys.path.append('../')  # Adiciona o diretório pai ao path para encontrar o módulo services\n",
    "\n",
    "from services.jira_service import JiraService  # seu service acima\n",
    "from datetime import datetime\n",
    "from services.jira_parser import parse_issues_to_dataframe_espaco_de_projetos, prepare_dataframe_for_json_export\n",
    "import json\n",
    "from datetime import timedelta\n"
   ]
  },
  {
   "cell_type": "code",
   "execution_count": null,
   "metadata": {},
   "outputs": [
    {
     "name": "stdout",
     "output_type": "stream",
     "text": [
      "['BI', 'DITO', 'Infraestrutura']\n"
     ]
    }
   ],
   "source": [
    "service = JiraService()\n",
    "\n",
    "issues = service.get_all_issues_from_project(\"EP\").get(\"issues\", [])\n",
    "\n",
    "for issue in issues:\n",
    "    if issue['key'] == \"EP-51\":\n",
    "        print([squad['value'] for squad in issue['fields']['customfield_10377']])\n",
    "        \n",
    "\n",
    "\n",
    "\n",
    "\n",
    "    "
   ]
  },
  {
   "cell_type": "code",
   "execution_count": null,
   "metadata": {},
   "outputs": [],
   "source": [
    "for i, issue in enumerate(issues[\"issues\"]):\n",
    "    if issue['key'] == \"EP-38\":\n",
    "        print(issue.get(\"fields\", {}).get(\"customfield_10278\", {}).get(\"value\"))\n",
    "        print(f\"{issue}\")\n",
    "        break"
   ]
  }
 ],
 "metadata": {
  "kernelspec": {
   "display_name": ".venv",
   "language": "python",
   "name": "python3"
  },
  "language_info": {
   "codemirror_mode": {
    "name": "ipython",
    "version": 3
   },
   "file_extension": ".py",
   "mimetype": "text/x-python",
   "name": "python",
   "nbconvert_exporter": "python",
   "pygments_lexer": "ipython3",
   "version": "3.11.9"
  }
 },
 "nbformat": 4,
 "nbformat_minor": 2
}
