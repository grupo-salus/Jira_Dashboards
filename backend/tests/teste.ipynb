{
 "cells": [
  {
   "cell_type": "code",
   "execution_count": 1,
   "metadata": {},
   "outputs": [],
   "source": [
    "import pandas as pd # type: ignore\n",
    "import sys\n",
    "sys.path.append('../')  # Adiciona o diretório pai ao path para encontrar o módulo services\n",
    "\n",
    "from services.jira_service import JiraService  # seu service acima\n",
    "from datetime import datetime\n",
    "from services.jira_parser import parse_issues_to_dataframe_espaco_de_projetos, prepare_dataframe_for_json_export\n",
    "import json\n",
    "from datetime import timedelta\n"
   ]
  },
  {
   "cell_type": "code",
   "execution_count": 2,
   "metadata": {},
   "outputs": [],
   "source": [
    "service = JiraService()"
   ]
  },
  {
   "cell_type": "code",
   "execution_count": 3,
   "metadata": {},
   "outputs": [],
   "source": [
    "all_fields = service.get_fields_for_issue_type(project_key=\"EP\")\n",
    "\n",
    "\n"
   ]
  },
  {
   "cell_type": "code",
   "execution_count": 4,
   "metadata": {},
   "outputs": [],
   "source": [
    "# Lista de campos que queremos mostrar no formulário (baseado no HTML)\n",
    "campos_desejados = [\n",
    "\"customfield_10093\",          # Nome completo do solicitante\n",
    "\"customfield_10247\",          # E-mail corporativo\n",
    "\"customfield_10245\",          # Departamento / Unidade solicitante\n",
    "\"customfield_10250\",          # Diretor responsável pela aprovação\n",
    "\"summary\",                    # Nome ou Título do Projeto (obrigatório)\n",
    "\"customfield_10481\",          # Objetivo do Projeto\n",
    "\"description\",                # Descrição do Projeto\n",
    "\"customfield_10476\",          # Escopo Inicial ou Solução Proposta pela Área\n",
    "\"customfield_10477\",          # Stakeholders Diretos ou Equipes Envolvidas\n",
    "\"customfield_10478\",          # Tipo de Projeto\n",
    "\"priority\",                   # Prioridade da Solicitação\n",
    "\"customfield_10479\",          # Prazo Desejado ou Restrição Temporal\n",
    "\"customfield_10480\",          # Impacto Esperado\n",
    "\"customfield_10248\",          # Benefícios Esperados\n",
    "\"customfield_10482\",          # Riscos Conhecidos ou Percebidos pela Área\n",
    "\"customfield_10483\",          # Estimativa de Custo\n",
    "\"customfield_10484\",          # Existe orçamento reservado para este projeto?\n",
    "\"customfield_10485\",          # Observações adicionais\n",
    "\"customfield_10486\"           #confirmação \n",
    "]\n",
    "\n",
    "# Filtra apenas os campos desejados\n",
    "campos_filtrados = [field for field in all_fields if field.get(\"key\") in campos_desejados]\n",
    "\n",
    "# Ordena os campos na ordem desejada\n",
    "campos_ordenados = []\n",
    "for key in campos_desejados:\n",
    "    for field in campos_filtrados:\n",
    "        if field.get(\"key\") == key:\n",
    "            campos_ordenados.append(field)\n",
    "            break\n",
    "\n"
   ]
  },
  {
   "cell_type": "code",
   "execution_count": 5,
   "metadata": {},
   "outputs": [],
   "source": [
    "#SALVAR NO JSON TESTE.JSON\n",
    "with open('teste.json', 'w') as f:\n",
    "    json.dump({\"Fields\": campos_ordenados}, f, indent=4)"
   ]
  }
 ],
 "metadata": {
  "kernelspec": {
   "display_name": ".venv",
   "language": "python",
   "name": "python3"
  },
  "language_info": {
   "codemirror_mode": {
    "name": "ipython",
    "version": 3
   },
   "file_extension": ".py",
   "mimetype": "text/x-python",
   "name": "python",
   "nbconvert_exporter": "python",
   "pygments_lexer": "ipython3",
   "version": "3.11.9"
  }
 },
 "nbformat": 4,
 "nbformat_minor": 2
}
